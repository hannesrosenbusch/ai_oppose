{
 "cells": [
  {
   "cell_type": "code",
   "execution_count": 4,
   "metadata": {},
   "outputs": [],
   "source": [
    "from functions import *\n",
    "combine generate_adversarial_texts with analyze sections\n",
    "# print(\"cool output file with YOU WROTE: {extracted_text} AI answered {AI_response}\")\n",
    "# print(\"pdf instead of txt for opposition\")\n",
    "# print(\"extract_from_paragraphs should have summary function so that summary is shown in output\")\n",
    "\n",
    "article_file = \"data/intelligence_addon.pdf\"\n",
    "##OPTIONAL added_lit_file = \"data/mutualism_literature.csv\"\n",
    "\n",
    "###LITERATURE\n",
    "# lit_df = generate_literature_csv_from_pdf(article_file, \"Author\", \"Title\", \"Publication Year\", output_path=\"full_lit.csv\")\n",
    "##OPTIONAL added_lit_df = pd.read_csv(added_lit_file, keep_default_na=False, encoding=\"utf-8\")\n",
    "##OPTIONAL combined_df = pd.concat([added_lit_df, lit_df], ignore_index=True) #suggest to put df with more added abstracts first\n",
    "##OPTIONAL combined_df = remove_duplicate_rows(combined_df)\n",
    "##OPTIONAL combined_df.to_csv(\"full_lit2.csv\", index=False)\n",
    "# df = autosearch_missing_abstracts(\"full_lit2.csv\", \"full_lit_abstract_search2.csv\")\n",
    "# df = manual_entry_abstracts(\"full_lit_abstract_search2.csv\", \"full_lit_abstract_search2.csv\")\n",
    "# data_formatted = format_texts_from_csv(\"full_lit_abstract_search2.csv\", \"Abstract Note\", \"Author\", \"Title\", \"Publication Year\")\n",
    "# data_formatted.to_csv(\"trash.csv\")\n",
    "# vectorstore_folder_name = generate_vectorstore(data_formatted, \"full_lit_abstract_search2.csv\", max_doc_size = 4000)\n",
    "\n",
    "###CLAIMS\n",
    "# claims = extract_focal_claims(article_file, max_claims=3)\n",
    "# sections = analyze_paragraphs(article_file, max_paragraphs=4)\n",
    "\n",
    "###OPPOSITION\n",
    "# relevant_docs = get_relevant_docs(presented_claim, vectorstore_folder_name)\n",
    "# responses, summary_response = generate_adversarial_texts(presented_claim, relevant_docs)"
   ]
  },
  {
   "cell_type": "code",
   "execution_count": 5,
   "metadata": {},
   "outputs": [],
   "source": [
    "sections = analyze_paragraphs(article_file, max_paragraphs=5)"
   ]
  },
  {
   "cell_type": "code",
   "execution_count": 6,
   "metadata": {},
   "outputs": [
    {
     "name": "stdout",
     "output_type": "stream",
     "text": [
      "{\n",
      "   \"claim\": \"The central claim is that general intelligence can be conceptualized as dynamically growing networks, providing a novel understanding of the shaping of intelligence that captures its positive manifold, hierarchical structure, and opens new avenues to study its complex structure and dynamic processes at the individual level.\",\n",
      "   \"page_content\": \"https://doi.org/10.1177/1745691619866447Perspectives on Psychological Science\\n2019, Vol. 14(6) 1034 \\u20131061\\n\\u00a9 The Author(s) 2019\\nArticle reuse guidelines: sagepub.com/journals-permissions\\nDOI: 10.1177/1745691619866447\\nwww.psychologicalscience.org/PPSASSOCIATION FOR\\nPSYCHOLOGICAL SCIENCE\\nFormal models of intelligence have greatly evolved since \\nSpearman\\u2019s (1904) fundamental finding of the positive manifold: the robust pattern of positive correlations between scores on cognitive tests (Carroll, 1993). In explaining this manifold, contemporary models have diverged from the popular reflective latent factor models (e.g., Spearman, 1927) to various proposed mechanisms of emergence (Conway & Kovacs, 2015). Models that have been key in expanding the realm of explanatory mechanisms include sampling models (Bartholomew, Deary, & Lawn, 2009; Kovacs & Conway, 2016; Thomson, 1916; Thorndike, Bregman, Cobb, & Woodyard, 1926), gene\\u2013environment interaction models (Ceci, Barnett, & Kanaya, 2003; Dickens, 2007; Dickens & Flynn, 2001, 2002; Sauce & Matzel, 2018), and network models (Jung & Haier, 2007; van der Maas et\\u00a0al., 2006, van der Maas, Savi, Hofman, Kan, & Marsman, 2019). We embrace this trend because exploring alternative mechanisms for the positive manifold may significantly aid us in our under -\\nstanding of intelligence (Bartholomew, 2004).\\nThe contributions of Dickens and Flynn (2001) and \\nvan der Maas et\\u00a0al. (2006) have been serious attempts to encapsulate development into the theory of general intel-ligence. Here, we combine ideas from both their Gene \\u00d7 \\nEnvironment and network approaches to conceptualize general intelligence as dynamically growing networks. This approach creates a completely novel conception of the shaping of intelligence\\u2014idiographic and develop -\\nmental in nature\\u2014that uncovers some of the complexity thus far obscured. Our proposed formal model not only explains how idiographic networks can capture intelli-gence\\u2019s positive manifold and hierarchical structure but also opens new avenues to study the complex structure and dynamic processes of intelligence at the level of an individual.\\nThe article is divided into two parts. In the first part, \\nwe briefly review current formal models of intelligence and discuss the desire to give idiography and develop-ment their deserved place within this tradition of formal models. In the second part, we introduce an elaborate developmental model of intelligence. We explain how the model captures various stationary and developmental phenomena and portray an individual\\u2019s complex cognitive structure and dynamics. Finally, in the Discussion section, we explore the model\\u2019s implications and limitations.866447 PPSXXX10.1177/1745691619866447Savi et al.The Wiring of Intelligence\\nresearch-article 2019\\nCorresponding Author:\",\n",
      "   \"summary\": \"In this paragraph, the authors discuss the evolution of formal models of intelligence, highlighting the shift from latent factor models to mechanisms of emergence, and propose a new model that conceptualizes general intelligence as dynamically growing networks, aiming to capture the complexity and dynamic processes of intelligence at an individual level.\",\n",
      "   \"opposition\": \"opposition pending\",\n",
      "   \"refs\": []\n",
      "}\n"
     ]
    }
   ],
   "source": [
    "import json\n",
    "json_sections = json.dumps(sections[0], indent=3)\n",
    "print(json_sections)"
   ]
  },
  {
   "cell_type": "code",
   "execution_count": 40,
   "metadata": {},
   "outputs": [],
   "source": [
    "create_pdf_from_dicts(sections, \"trash.pdf\")"
   ]
  }
 ],
 "metadata": {
  "kernelspec": {
   "display_name": "venv",
   "language": "python",
   "name": "python3"
  },
  "language_info": {
   "codemirror_mode": {
    "name": "ipython",
    "version": 3
   },
   "file_extension": ".py",
   "mimetype": "text/x-python",
   "name": "python",
   "nbconvert_exporter": "python",
   "pygments_lexer": "ipython3",
   "version": "3.11.0"
  },
  "orig_nbformat": 4
 },
 "nbformat": 4,
 "nbformat_minor": 2
}
