{
 "cells": [
  {
   "cell_type": "code",
   "execution_count": 1,
   "metadata": {},
   "outputs": [],
   "source": [
    "from functions import *\n",
    "# insta_full_lit.csv for review\n",
    "# combine generate_adversarial_texts with analyze sections\n",
    "# also generate_adversarial_texts should generate pdf instead of txt\n",
    "\n",
    "article_file = \"data/insta_short.pdf\"\n",
    "added_lit_file = \"insta_added_lit.csv\"\n",
    "\n",
    "###LITERATURE\n",
    "# lit_df = generate_literature_csv_from_pdf(article_file, \"Author\", \"Title\", \"Publication Year\", output_path=\"full_lit.csv\")\n",
    "# added_lit_df = pd.read_csv(added_lit_file, keep_default_na=False, encoding=\"utf-8\")\n",
    "# combined_df = pd.concat([added_lit_df, lit_df], ignore_index=True) #suggest to put df with more added abstracts first\n",
    "# combined_df = remove_duplicate_rows(combined_df)\n",
    "# combined_df.to_csv(\"insta_full_lit.csv\", index=False)\n",
    "# df = autosearch_missing_abstracts(\"insta_full_lit.csv\", \"insta_full_lit.csv\")\n",
    "# df = manual_entry_abstracts(\"insta_full_lit.csv\", \"insta_full_lit.csv\")\n",
    "# data_formatted = format_texts_from_csv(\"insta_full_lit.csv\", \"Abstract Note\", \"Author\", \"Title\", \"Publication Year\")\n",
    "# data_formatted.to_csv(\"trash.csv\")\n",
    "# vectorstore_folder_name = generate_vectorstore(data_formatted, \"insta_full_lit.csv\", max_doc_size = 4000)\n",
    "\n",
    "###CLAIMS\n",
    "# claims = extract_focal_claims(article_file, max_claims=3)\n",
    "# sections = analyze_paragraphs(article_file, max_paragraphs=4)\n",
    "\n",
    "###OPPOSITION\n",
    "# relevant_docs = get_relevant_docs(presented_claim, vectorstore_folder_name)\n",
    "# responses, summary_response = generate_adversarial_texts(presented_claim, relevant_docs)"
   ]
  },
  {
   "cell_type": "code",
   "execution_count": 6,
   "metadata": {},
   "outputs": [
    {
     "name": "stdout",
     "output_type": "stream",
     "text": [
      "2\n",
      "Beggar Thy Neighbor Effects of Exchange Rates A Study of the Renminbi\n",
      "Aaditya Mattoo\n",
      "Prachi Mishra\n",
      "Arvind Subramanian\n",
      "1\n",
      "Abstract\n",
      "This paper estimates the effect of China's exchange rate changes on exports of developing countries in third markets. The degree of competition between China and its developing country competitors in specific products and destinations plays a key role in the identification strategy. The strategy exploits variation across exporters, importers, products and time—afforded both by disaggregated trade data and bilateral exchange rates—to estimate this \"competitor country effect.\" There is robust evidence of a statistically and quantitatively significant effect. A 10 percent appreciation of China's real exchange rate boosts a developing country's exports at the product level on average by about 1.5-2.5 percent.\n",
      "\n",
      "1\n",
      "Abstract\n",
      "This paper estimates the effect of China's exchange rate changes on exports of developing countries in third markets. The degree of competition between China and its developing country competitors in specific products and destinations plays a key role in the identification strategy. The strategy exploits variation across exporters, importers, products and time—afforded both by disaggregated trade data and bilateral exchange rates—to estimate this \"competitor country effect.\" There is robust evidence of a statistically and quantitatively significant effect. A 10 percent appreciation of China's real exchange rate boosts a developing country's exports at the product level on average by about 1.5-2.5 percent.\n",
      "\n"
     ]
    },
    {
     "data": {
      "text/plain": [
       "'This paper estimates the effect of China\\'s exchange rate changes on exports of developing countries in third markets. The degree of competition between China and its developing country competitors in specific products and destinations plays a key role in the identification strategy. The strategy exploits variation across exporters, importers, products and time—afforded both by disaggregated trade data and bilateral exchange rates—to estimate this \"competitor country effect.\" There is robust evidence of a statistically and quantitatively significant effect. A 10 percent appreciation of China\\'s real exchange rate boosts a developing country\\'s exports at the product level on average by about 1.5-2.5 percent. '"
      ]
     },
     "execution_count": 6,
     "metadata": {},
     "output_type": "execute_result"
    }
   ],
   "source": [
    "# why does this source not work \n",
    "\n",
    "url = \"https://www.aeaweb.org/articles?id=10.1257/pol.20150293\"\n",
    "a = extract_abstract(url, \"Beggar-Thy-Neighbor Effects of Exchange Rates: A Study of the Renminbi\", \"Aaditya Mattoo Prachi Mishra Arvind Subramanian\") \n",
    "a"
   ]
  },
  {
   "cell_type": "code",
   "execution_count": null,
   "metadata": {},
   "outputs": [],
   "source": [
    "import pickle\n",
    "sections = analyze_paragraphs(article_file, max_paragraphs=5)\n",
    "with open('sections.pkl', 'wb') as f:\n",
    "    pickle.dump(sections, f)"
   ]
  },
  {
   "cell_type": "code",
   "execution_count": null,
   "metadata": {},
   "outputs": [],
   "source": [
    "for i in range(len(sections)):\n",
    "    responses, summary = generate_adversarial_texts(sections[i][\"claim\"], relevant_docs = )\n",
    "    sections[i][\"opposition\"] = summary\n",
    "    sections[i][\"references\"] = [r[\"metadata\"] for r in responses]\n",
    "with open('sections_enriched.pkl', 'wb') as f:\n",
    "    pickle.dump(sections, f)"
   ]
  },
  {
   "cell_type": "code",
   "execution_count": null,
   "metadata": {},
   "outputs": [],
   "source": [
    "import json\n",
    "json_sections = json.dumps(sections[0], indent=3)\n",
    "print(json_sections)"
   ]
  },
  {
   "cell_type": "code",
   "execution_count": null,
   "metadata": {},
   "outputs": [],
   "source": [
    "create_pdf_from_dicts(sections, \"trash.pdf\")"
   ]
  }
 ],
 "metadata": {
  "kernelspec": {
   "display_name": "venv",
   "language": "python",
   "name": "python3"
  },
  "language_info": {
   "codemirror_mode": {
    "name": "ipython",
    "version": 3
   },
   "file_extension": ".py",
   "mimetype": "text/x-python",
   "name": "python",
   "nbconvert_exporter": "python",
   "pygments_lexer": "ipython3",
   "version": "3.11.0"
  },
  "orig_nbformat": 4
 },
 "nbformat": 4,
 "nbformat_minor": 2
}
