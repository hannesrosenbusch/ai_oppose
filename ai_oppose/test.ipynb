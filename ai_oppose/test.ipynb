{
 "cells": [
  {
   "cell_type": "code",
   "execution_count": null,
   "metadata": {},
   "outputs": [],
   "source": [
    "from functions import *\n",
    "\n",
    "# article_file = \"data/compassion.pdf\"\n",
    "# csv_name = \"compassion_full.csv\"\n",
    "# added_lit_file = \"compassion_addon.csv\"\n",
    "\n",
    "###LITERATURE\n",
    "# lit_df = generate_literature_csv_from_pdf(article_file, \"Author\", \"Title\", \"Publication Year\", output_path=csv_name)\n",
    "# if added_lit_file:\n",
    "#     added_lit_df = pd.read_csv(added_lit_file, keep_default_na=False, encoding=\"utf-8\")\n",
    "#     combined_df = pd.concat([added_lit_df, lit_df], ignore_index=True) #suggest to put df with more added abstracts first\n",
    "#     combined_df = remove_duplicate_rows(combined_df)\n",
    "#     combined_df.to_csv(\"compassion_full.csv\", index=False)\n",
    "# df = autosearch_missing_abstracts(csv_name, csv_name)\n",
    "# df = manual_entry_abstracts(csv_name, csv_name)\n",
    "# data_formatted = format_texts_from_csv(csv_name, \"Abstract Note\", \"Author\", \"Title\", \"Publication Year\")\n",
    "# data_formatted.to_csv(\"trash.csv\")\n",
    "# vectorstore_folder_name = generate_vectorstore(data_formatted, csv_name, max_doc_size = 4000)\n",
    "\n",
    "###CLAIMS\n",
    "# claims = extract_focal_claims(article_file, max_claims=3)\n",
    "# sections = analyze_paragraphs(article_file, max_paragraphs=4)\n",
    "\n",
    "###OPPOSITION\n",
    "# relevant_docs = get_relevant_docs(presented_claim, vectorstore_folder_name)\n",
    "# responses, summary_response = generate_adversarial_texts(presented_claim, relevant_docs)"
   ]
  },
  {
   "cell_type": "code",
   "execution_count": 2,
   "metadata": {},
   "outputs": [
    {
     "name": "stdout",
     "output_type": "stream",
     "text": [
      "\n",
      "---extracting references from ../../data/test.pdf\n",
      "\n",
      "TIP: you can use the arguments upper (~763), lower (~70), and left (~10) to trim away headers, footers, or line numbers from pdf. set verbose to True to see what was cut.\n",
      "  --> 3 refs extracted\n",
      "\n",
      "---searching for additional papers based on Abstract\n",
      "\n",
      "https://self-compassion.org/wp-content/uploads/2019/08/Daltry2018.pdf\n",
      "https://research.rug.nl/files/619574774/s12144_022_02908_3.pdf\n",
      "http://essay.utwente.nl/81650/13/Pasanen_BA_BMS.pdf\n",
      "Self-Compassion: Theory, Method, Research, and Intervention\n",
      "Kristin D Neff\n",
      "https://self-compassion.org/wp-content/uploads/2019/08/Daltry2018.pdf\n",
      "https://research.rug.nl/files/619574774/s12144_022_02908_3.pdf\n",
      "http://essay.utwente.nl/81650/13/Pasanen_BA_BMS.pdf\n",
      "Self-Compassion: Theory, Method, Research, and Intervention\n",
      "Kristin D Neff\n",
      "\n",
      "---finding abstracts\n",
      "\n",
      "\n",
      "---finding related papers\n",
      "\n"
     ]
    },
    {
     "name": "stderr",
     "output_type": "stream",
     "text": [
      "100%|██████████| 1/1 [00:00<00:00, 953.90it/s]\n",
      "100%|██████████| 1/1 [00:00<00:00, 1011.41it/s]\n",
      "100%|██████████| 2/2 [00:00<00:00, 999.12it/s]\n",
      "100%|██████████| 1/1 [00:00<00:00, 499.98it/s]\n",
      "100%|██████████| 1/1 [00:00<?, ?it/s]\n",
      "100%|██████████| 1/1 [00:00<00:00, 1002.46it/s]\n",
      "100%|██████████| 1/1 [00:00<00:00, 998.17it/s]\n",
      "100%|██████████| 3/3 [00:00<00:00, 499.78it/s]\n",
      "100%|██████████| 3/3 [00:12<00:00,  4.06s/it]\n",
      "100%|██████████| 1/1 [00:00<?, ?it/s]\n",
      "100%|██████████| 3/3 [00:12<00:00,  4.33s/it]\n"
     ]
    },
    {
     "name": "stdout",
     "output_type": "stream",
     "text": [
      "\n",
      "---finding abstracts of related papers\n",
      "\n",
      "\n",
      "---extracting references from ../../data/test2.pdf\n",
      "\n",
      "TIP: you can use the arguments upper (~763), lower (~70), and left (~10) to trim away headers, footers, or line numbers from pdf. set verbose to True to see what was cut.\n",
      "  --> 4 refs extracted\n",
      "\n",
      "---searching for additional papers based on Abstract\n",
      "\n",
      "https://pubmed.ncbi.nlm.nih.gov/35107822/\n",
      "https://www.researchsquare.com/article/rs-2699401/v1.pdf\n",
      "https://www.drshanesinclair.com/blog/measuring-measures-of-compassion-what-is-the-most-valid-and-reliable-compassion-scale-in-healthcare\n",
      "https://www.tandfonline.com/doi/abs/10.1080/03601277.2020.1712058\n",
      "https://bmjopen.bmj.com/content/11/6/e045988\n",
      "https://www.researchsquare.com/article/rs-2699401/v1.pdf\n",
      "https://pubmed.ncbi.nlm.nih.gov/27866323/\n",
      "https://pubmed.ncbi.nlm.nih.gov/35107822/\n",
      "https://self-compassion.org/wp-content/uploads/2015/12/ScaleMindfulness.pdf\n",
      "https://www.drshanesinclair.com/blog/measuring-measures-of-compassion-what-is-the-most-valid-and-reliable-compassion-scale-in-healthcare\n",
      "https://www.fitchratings.com/\n",
      "https://www.fitchratings.com/\n",
      "\n",
      "---finding abstracts\n",
      "\n",
      "\n",
      "---finding related papers\n",
      "\n"
     ]
    },
    {
     "name": "stderr",
     "output_type": "stream",
     "text": [
      "100%|██████████| 1/1 [00:00<00:00, 998.17it/s]\n",
      "100%|██████████| 3/3 [00:00<00:00, 1481.56it/s]\n",
      "100%|██████████| 3/3 [00:00<00:00, 3021.11it/s]\n",
      "100%|██████████| 1/1 [00:00<00:00, 963.32it/s]\n",
      "100%|██████████| 1/1 [00:00<00:00, 999.60it/s]\n",
      "100%|██████████| 1/1 [00:00<00:00, 499.92it/s]\n",
      "100%|██████████| 1/1 [00:00<?, ?it/s]\n",
      "100%|██████████| 1/1 [00:00<00:00, 844.94it/s]\n",
      "100%|██████████| 2/2 [00:07<00:00,  3.64s/it]\n",
      "100%|██████████| 1/1 [00:00<00:00, 1000.55it/s]\n",
      "100%|██████████| 3/3 [00:00<00:00, 172.69it/s]\n"
     ]
    },
    {
     "name": "stdout",
     "output_type": "stream",
     "text": [
      "\n",
      "---finding abstracts of related papers\n",
      "\n",
      "\n",
      "---auto-web-browsing for missing data\n",
      "\n",
      "10 abstracts missing out of 15\n",
      "\n",
      "e. beaumont, m. durkin, c. h. : Compassion for others, self-compassion, \n",
      "scholar found paper: True\n",
      "../../data/test.pdf --> https://www.sciencedirect.com/science/article/pii/S0266613815002843\n",
      "length new abstract: 398\n",
      "\n",
      "k. bluth, michael c. mullarkey: Self-Compassion: A Potential Path to Ado\n",
      "scholar found paper: True\n",
      "../../data/test.pdf --> https://link.springer.com/article/10.1007/s10826-018-1125-1\n",
      "length new abstract: 1809\n",
      "\n",
      "Baljinder Sahdra, Joseph Ciarr: The Compassion Balance Understanding the\n",
      "scholar found paper: True\n",
      "../../data/test.pdf --> https://link.springer.com/article/10.1007/s12671-023-02187-4\n",
      "length new abstract: 1825\n",
      "\n",
      "Kauser, Keyte, Regan, Nash, Fi: Exploring Associations Between Self Comp\n",
      "scholar found paper: True\n",
      "../../data/test.pdf --> https://link.springer.com/article/10.1007/s10880-021-09831-y\n",
      "length new abstract: 980\n",
      "\n",
      "Peter Muris 1 , 2 and Henry Ot: Self Esteem and Self Compassion A Narrat\n",
      "scholar found paper: True\n",
      "https://www.tandfonline.com/doi/abs/10.2147/PRBM.S402455\n",
      "failed to get abstract from scholar-based url. trying google\n",
      "../../data/test.pdf --> https://www.ncbi.nlm.nih.gov/pmc/articles/PMC10406111/\n",
      "length new abstract: 1194\n",
      "\n",
      "Angélica López,1 Robbert Sande: Compassion for Others and Self Compassio\n",
      "scholar found paper: True\n",
      "../../data/test.pdf --> https://link.springer.com/article/10.1007/s12671-017-0777-z\n",
      "length new abstract: 1197\n",
      "\n",
      "Ulli Zessin, Oliver Dickhäuser: The Relationship Between Self Compassion\n",
      "scholar found paper: True\n",
      "../../data/test.pdf --> https://iaap-journals.onlinelibrary.wiley.com/doi/abs/10.1111/aphw.12051\n",
      "length new abstract: 1277\n",
      "\n",
      "Kristin D Neff: Self-Compassion: Theory, Method, Researc\n",
      "scholar found paper: True\n",
      "Self-Compassion: Theory, Method, Research, and Intervention\n",
      "Kristin D Neff\n",
      "../../data/test.pdf --> https://www.annualreviews.org/doi/abs/10.1146/annurev-psych-032420-031047\n",
      "length new abstract: 1150\n",
      "\n",
      "\n",
      "Gh. Samaie a, H.A. Farahani b: Self compassion as a moderator of the re\n",
      "scholar found paper: True\n",
      "../../data/test.pdf --> https://www.sciencedirect.com/science/article/pii/S1877042811020155\n",
      "length new abstract: 1491\n",
      "\n",
      "Laura, K., Barnard, John, F., : Self Compassion Conceptualizations Corre\n",
      "scholar found paper: True\n",
      "../../data/test.pdf --> https://journals.sagepub.com/doi/abs/10.1037/a0025754\n",
      "length new abstract: 1233\n",
      "\n",
      "r. baumeister, d. tice, k. voh: The Strength Model of Self-Regulation: C\n",
      "\n",
      "R. Baumeister, K. Vohs: Revisiting Our Reappraisal of the (Surpr\n",
      "\n",
      "K. Neff, Ya-Ping Hsieh, Kullay: Self-compassion, Achievement Goals, and \n",
      "\n",
      "K. Neff, C. Germer: A pilot study and randomized controlled \n",
      "\n",
      "M. Leary, E. Tate, Claire Adam: Self-compassion and reactions to unpleas\n",
      "DONT USE EXCEL FOR ADDING 0 MISSING ABSTRACTS! USE FUNCTION >>> manual_entry_abstracts(infile = '../../data/test_literature.csv', outfile = '../../data/test_literature.csv')\n",
      " AUTOSEARCH DONE.\n",
      "\n",
      "\n",
      "skipping manual entry of missing abstracts\n",
      "\n",
      "---generating AI vectorstore.\n",
      "\n",
      "vectorstore has been generated: folder vectorstore_test literature _TueOct3160855\n",
      "\n",
      "\n",
      "\n",
      "---analyzing individual sections in {pdffile}\n",
      "TIP: you can use the arguments upper (~763), lower (~70), and left (~10) to trim away headers, footers, or line numbers from pdf. set verbose to True to see what was cut.\n",
      "\n",
      "---creating ../../data/test_review.pdf\n"
     ]
    }
   ],
   "source": [
    "from functions import review\n",
    "review(\"../../data/test.pdf\", \"../../data/test2.pdf\", lower=45, upper = 2000, left = 0, manual_abstracts=False, openai_model=\"gpt-3.5-turbo\", max_secondary=4)"
   ]
  },
  {
   "cell_type": "code",
   "execution_count": null,
   "metadata": {},
   "outputs": [],
   "source": [
    "import pickle\n",
    "sections = analyze_paragraphs(article_file, paragraph_length=1500, max_paragraphs=15, lower = 70, upper = 763, left = 10, verbose=False)\n",
    "with open('sections.pkl', 'wb') as f:\n",
    "    pickle.dump(sections, f)"
   ]
  },
  {
   "cell_type": "code",
   "execution_count": null,
   "metadata": {},
   "outputs": [],
   "source": [
    "import pickle\n",
    "with open('sections.pkl', 'rb') as f:\n",
    "    sections = pickle.load(f)\n",
    "for i in range(len(sections)):\n",
    "    if sections[i][\"reviewable\"]:\n",
    "        relevant_docs =  get_relevant_docs(sections[i], vectorstore_folder_name)\n",
    "        if len(relevant_docs) > 0:\n",
    "            responses, summary = generate_adversarial_texts(sections[i][\"page_content\"], relevant_docs, input_type=\"text\")\n",
    "            sections[i][\"opposition\"] = summary\n",
    "            sections[i][\"responses\"] = [r[\"response\"] for r in responses]\n",
    "            sections[i][\"references\"] = [r[\"metadata\"] for r in responses]\n",
    "        else:\n",
    "            sections[i][\"opposition\"] = \"No relevant papers found.\"\n",
    "            sections[i][\"responses\"] = []\n",
    "            sections[i][\"references\"] = []\n",
    "    else:\n",
    "        sections[i][\"opposition\"] = \"AI deemed section not reviewable.\"\n",
    "        sections[i][\"responses\"] = []\n",
    "        sections[i][\"references\"] = []\n",
    "with open('sections_enriched.pkl', 'wb') as f:\n",
    "    pickle.dump(sections, f)"
   ]
  },
  {
   "cell_type": "code",
   "execution_count": null,
   "metadata": {},
   "outputs": [],
   "source": [
    "import pickle\n",
    "with open('sections_enriched.pkl', 'rb') as f:\n",
    "    sections = pickle.load(f)\n",
    "create_pdf_from_dicts(sections, \"trash.pdf\")\n",
    "import os \n",
    "os.startfile(\"trash.pdf\")"
   ]
  },
  {
   "cell_type": "code",
   "execution_count": null,
   "metadata": {},
   "outputs": [],
   "source": [
    "finds = get_abstract_from_google({\"query\": 'paper ' + 'Limitations of subjective ratings in instructional research'}, bias = [], query_only=True)"
   ]
  },
  {
   "cell_type": "code",
   "execution_count": 1,
   "metadata": {},
   "outputs": [
    {
     "name": "stdout",
     "output_type": "stream",
     "text": [
      "Evaluative Conditioning: Past, Present, and Future\n",
      "Tal Moran, Yahel Nudler, Yoav Bar Anan\n"
     ]
    },
    {
     "data": {
      "text/plain": [
       "{'Author': 'Tal Moran, Yahel Nudler, Yoav Bar Anan',\n",
       " 'Title': 'Evaluative Conditioning: Past, Present, and Future',\n",
       " 'Publication Year': None,\n",
       " 'Abstract Note': 'Evaluative conditioning (EC) research investigates changes in the evaluation of a stimulus after co-occurrence with an affective stimulus. To explain the motivation behind this research, this review begins with an overview of the history of EC research, followed by a summary of the state of the art with respect to three key questions. First, how should EC procedures be used to influence evaluation? We provide a guide based on evidence concerning the functional properties of EC effects. Second, how does the EC effect occur? We discuss the possible mediating cognitive processes and their automaticity. Third, are EC effects ubiquitous outside the lab? We discuss the evidence for the external validity of EC research. We conclude that the most important open questions pertain to the relevance of EC to everyday life and to the level of control that characterizes the processes that mediate the EC effect after people notice the stimulus co-occurrence.',\n",
       " 'SOURCE': 'https://www.annualreviews.org/doi/full/10.1146/annurev-psych-032420-031815'}"
      ]
     },
     "execution_count": 1,
     "metadata": {},
     "output_type": "execute_result"
    }
   ],
   "source": [
    "from functions import *\n",
    "# https://pubmed.ncbi.nlm.nih.gov/35107822/\n",
    "# https://www.researchsquare.com/article/rs-2699401/v1.pdf\n",
    "# https://www.drshanesinclair.com/blog/measuring-measures-of-compassion-what-is-the-most-valid-and-reliable-compassion-scale-in-healthcare\n",
    "# https://www.tandfonline.com/doi/abs/10.1080/03601277.2020.1712058\n",
    "# https://bmjopen.bmj.com/content/11/6/e045988\n",
    "# https://www.researchsquare.com/article/rs-2699401/v1.pdf\n",
    "# https://pubmed.ncbi.nlm.nih.gov/27866323/\n",
    "# https://pubmed.ncbi.nlm.nih.gov/35107822/\n",
    "url = \"\"\n",
    "a = extract_abstract(url, '', '', query_only=True)\n",
    "a"
   ]
  }
 ],
 "metadata": {
  "kernelspec": {
   "display_name": "venv",
   "language": "python",
   "name": "python3"
  },
  "language_info": {
   "codemirror_mode": {
    "name": "ipython",
    "version": 3
   },
   "file_extension": ".py",
   "mimetype": "text/x-python",
   "name": "python",
   "nbconvert_exporter": "python",
   "pygments_lexer": "ipython3",
   "version": "3.11.0"
  },
  "orig_nbformat": 4
 },
 "nbformat": 4,
 "nbformat_minor": 2
}
